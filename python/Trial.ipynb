{
 "cells": [
  {
   "cell_type": "code",
   "execution_count": 2,
   "metadata": {
    "collapsed": false
   },
   "outputs": [
    {
     "name": "stdout",
     "output_type": "stream",
     "text": [
      "Enter the component of the first vector: 1\n",
      "Enter the component of the first vector: 1\n",
      "Enter the component of the first vector: 1\n",
      "Enter the component of the first vector: 1\n",
      "Enter the component of the first vector: 1\n",
      "Enter the component of the first vector: 1\n",
      "Enter the component of the first vector: \n",
      "The dimensionality of the vector is: 6\n",
      "Enter the components of the second vector: \n",
      "1\n",
      "1\n",
      "1\n",
      "1\n",
      "1\n",
      "1\n",
      "The scalar product is 6.0 .\n"
     ]
    }
   ],
   "source": [
    "#Vector Dot Product\n",
    "a=[]\n",
    "b=[]\n",
    "c=0.0\n",
    "n=0\n",
    "while 1:\n",
    "    str1=raw_input(\"Enter the component of the first vector: \")\n",
    "    if str1==\"\":\n",
    "        break\n",
    "    a.append(float(str1))\n",
    "    n+=1\n",
    "print \"The dimensionality of the vector is:\", n\n",
    "print \"Enter the components of the second vector: \"\n",
    "for i in xrange(n):\n",
    "    b.append(input())\n",
    "    c+=(a[i]*b[i])\n",
    "print \"The scalar product is\", c, \".\""
   ]
  },
  {
   "cell_type": "code",
   "execution_count": 2,
   "metadata": {
    "collapsed": false
   },
   "outputs": [
    {
     "name": "stdout",
     "output_type": "stream",
     "text": [
      " This program sorts your data using bubble sort.\n",
      "\n",
      "Enter data: 10\n",
      "Enter data: 5\n",
      "Enter data: 3\n",
      "Enter data: 2\n",
      "Enter data: 3\n",
      "Enter data: 4\n",
      "Enter data: 54\n",
      "Enter data: 6\n",
      "Enter data: 5\n",
      "Enter data: 6\n",
      "Enter data: \n",
      "The sorted array is: \n",
      "2.0 3.0 3.0 4.0 5.0 5.0 6.0 6.0 10.0 54.0\n"
     ]
    }
   ],
   "source": [
    "#bubble sort\n",
    "a=[]\n",
    "print \"This program sorts your data using bubble sort.\\n\"\n",
    "n=0\n",
    "while 1:\n",
    "    b=raw_input(\"Enter data: \")\n",
    "    if b==\"\":\n",
    "        break\n",
    "    a.append(float(b))\n",
    "    n+=1\n",
    "swap=True\n",
    "while swap==True:\n",
    "    swap=False\n",
    "    for j in xrange(n-1):\n",
    "        if a[j]>a[(j+1)]:\n",
    "            #c=a[j]\n",
    "            #a[(j)]=a[(j+1)]\n",
    "            #a[(j+1)]=c  In python, SWAP is inbuilt\n",
    "            a[j],a[j+1]=a[j+1],a[j]\n",
    "            swap=True\n",
    "#print \"The main loop ran\", i+1, \"times.\"\n",
    "print \"The sorted array is: \"\n",
    "for i in xrange(n):\n",
    "    print a[i],\n",
    "\n",
    "            "
   ]
  },
  {
   "cell_type": "code",
   "execution_count": null,
   "metadata": {
    "collapsed": false,
    "scrolled": false
   },
   "outputs": [],
   "source": [
    "#Insertion sort: UNLIMITED\n",
    "a=[]\n",
    "i=0\n",
    "print \"This program will sort your data in ascending order.\\n\"\n",
    "while 1:\n",
    "    b=raw_input(\"Enter data: \")\n",
    "    if b==\"\":\n",
    "        break\n",
    "    a.append(float(b))\n",
    "    j=i\n",
    "    while j>0:\n",
    "        if a[j]<a[j-1]:\n",
    "            a[j-1],a[j]=a[j],a[j-1]\n",
    "            j-=1\n",
    "        else:\n",
    "            break\n",
    "    i+=1\n",
    "print \"The sorted data is: \"\n",
    "for j in range(i):\n",
    "    print a[j],"
   ]
  },
  {
   "cell_type": "code",
   "execution_count": null,
   "metadata": {
    "collapsed": false
   },
   "outputs": [],
   "source": [
    "# matrix product\n",
    "import numpy as n\n",
    "import sys\n",
    "#initialization of numpy arrays\n",
    "a=n.array([100,100])\n",
    "b=n.array([100,100])\n",
    "c=n.array([100,100])\n",
    "m=input(\"Enter the number of rows of the first matrix: \")\n",
    "n=input(\"Enter the number of columns of the first matrix: \")\n",
    "n_1=input(\"Enter the number of rows of the second matrix: \")\n",
    "#product condition check\n",
    "if n!=n_1:\n",
    "    sys.exit(\"Learn how product works, maggot!\")\n",
    "p=input(\"Enter the number of columns of the second matrix: \")\n",
    "#reading the first matrix\n",
    "for i in range(m):\n",
    "    for j in range(n):\n",
    "        print \"Enter the \",(i+1), (j+1), \"element of the first matrix: \"\n",
    "        a[i,j]=input()\n",
    "#reading the second matrix\n",
    "for i in range(n):\n",
    "    for j in range(p):\n",
    "        print \"Enter the \",(i+1), (j+1), \"element of the second matrix: \"\n",
    "        b[i,j]=input()\n",
    "#calculating the product:\n",
    "for i in range(m):\n",
    "    for j in range (p):\n",
    "        c[i,j]=0\n",
    "        for k in range(n):\n",
    "            c[i,j]+=a[i,k]*b[k,j]\n",
    "#Printing the product\n",
    "print\n",
    "print \"The product is: \\n\"\n",
    "print\n",
    "for i in range(m):\n",
    "    for j in range(p):\n",
    "        print c[i,j], \n",
    "    print \"\\n\""
   ]
  },
  {
   "cell_type": "code",
   "execution_count": 1,
   "metadata": {
    "collapsed": false
   },
   "outputs": [
    {
     "name": "stdout",
     "output_type": "stream",
     "text": [
      "Enter where you want the derivative to be calculated: 1\n",
      "\n",
      "The forward and central derivatives are 2.71964142253 & 2.71828228151 respectively for h= 0.001 .\n",
      "\n",
      "The forward and central derivatives are 2.71950542233 & 2.71828219543 respectively for h= 0.0009 .\n",
      "\n",
      "The forward and central derivatives are 2.7193694312 & 2.71828211841 respectively for h= 0.0008 .\n",
      "\n",
      "The forward and central derivatives are 2.71923344913 & 2.71828205045 respectively for h= 0.0007 .\n",
      "\n",
      "The forward and central derivatives are 2.71909747613 & 2.71828199156 respectively for h= 0.0006 .\n",
      "\n",
      "The forward and central derivatives are 2.71896151219 & 2.71828194172 respectively for h= 0.0005 .\n",
      "\n",
      "The forward and central derivatives are 2.71882555732 & 2.71828190095 respectively for h= 0.0004 .\n",
      "\n",
      "The forward and central derivatives are 2.71868961151 & 2.71828186923 respectively for h= 0.0003 .\n",
      "\n",
      "The forward and central derivatives are 2.71855367477 & 2.71828184658 respectively for h= 0.0002 .\n",
      "\n",
      "The forward and central derivatives are 2.71841774708 & 2.71828183299 respectively for h= 0.0001 .\n",
      "\n",
      "The actual derivative is:  2.71828182846 .\n"
     ]
    }
   ],
   "source": [
    "#numerical derivative\n",
    "#import matplotlib\n",
    "from pylab import *\n",
    "#from matplotlib import pyplot\n",
    "import math as m\n",
    "#%matplotlib inline\n",
    "x=0.0\n",
    "#hP=[]\n",
    "#cdP=[]\n",
    "#cfP=[]\n",
    "#function\n",
    "def f(x):\n",
    "    result=m.exp(x)\n",
    "    return result\n",
    "f(x)\n",
    "#derivative\n",
    "def f1(x):\n",
    "    result=m.exp(x)\n",
    "    return result\n",
    "f1(x)\n",
    "x=input(\"Enter where you want the derivative to be calculated: \")\n",
    "print\n",
    "#calculation\n",
    "for i in range(10):\n",
    "    h=0.001\n",
    "    h-=i*0.0001\n",
    "    fd=(f(x+h)-f(x))/h\n",
    "    cd=(f(x+h)-f(x-h))/(2.0*h)\n",
    "    ec=1000*(cd-f1(x))/f1(x)\n",
    "    ef=1000*(fd-f1(x))/f1(x)\n",
    "    print \"The forward and central derivatives are\", fd, \"&\", cd, \"respectively for h=\",h ,\".\\n\"\n",
    "    #hP.append(h)\n",
    "    #cdP.append(cd)\n",
    "    #cfP.append(fd)\n",
    "    plot(h, ec)\n",
    "    plot(h, ef)\n",
    "print \"The actual derivative is: \", f1(x),\".\"\n",
    "grid(True)\n",
    "xlabel(\"Increment (h)\")\n",
    "ylabel(\"Error\")\n",
    "title('Error vs. Increment Plot')\n",
    "savefig(\"derp2.png\")\n",
    "#show()"
   ]
  },
  {
   "cell_type": "code",
   "execution_count": null,
   "metadata": {
    "collapsed": false
   },
   "outputs": [],
   "source": [
    "#montecarlo integration\n",
    "import math as m\n",
    "import random as r\n",
    "x=0.0\n",
    "def f(x):\n",
    "    result=m.exp(x)\n",
    "    return result\n",
    "f(x)\n",
    "a=input(\"Enter lower limit: \")\n",
    "b=input(\"Enter upper limit: \")\n",
    "#maxima determination\n",
    "n=(b-a)*1000\n",
    "x=a\n",
    "h=f(a)\n",
    "i=0\n",
    "while i<n:\n",
    "    x=x+0.001\n",
    "    i=i+1\n",
    "    if h<f(x):\n",
    "        h=f(x)\n",
    "#monte carlo integration\n",
    "n=input(\"How many points do you want to generate? \")\n",
    "c=0\n",
    "for i in range(n+1):\n",
    "    x=a+(b-a)*r.random()\n",
    "    y=h*r.random()\n",
    "    if y<=f(x):\n",
    "        c+=1\n",
    "#area determination:\n",
    "result=(c*h*(b-a)/n)\n",
    "print \"The integral is:\", result\n",
    "    \n",
    "    \n"
   ]
  },
  {
   "cell_type": "code",
   "execution_count": null,
   "metadata": {
    "collapsed": false
   },
   "outputs": [],
   "source": [
    "#trapezoidal integration\n",
    "import math as m\n",
    "x=0.0\n",
    "a=0.0\n",
    "b=0.0\n",
    "h=0.0\n",
    "def f(x):\n",
    "    result=x*m.exp(x)\n",
    "    return result\n",
    "f(x)\n",
    "a=float(input(\"Enter lower limit: \"))\n",
    "b=float(input(\"Enter upper limit: \"))\n",
    "n=input(\"Enter number of points to be generated( the higher the better ) \")\n",
    "h=(b-a)/n\n",
    "integral=0.0\n",
    "for i in range(n):\n",
    "    x=a+i*h\n",
    "    integral=integral+(h/2.0)*(f(x)+f(x+h))\n",
    "print \"The integral is\", integral,\".\"\n",
    "    "
   ]
  },
  {
   "cell_type": "code",
   "execution_count": null,
   "metadata": {
    "collapsed": false
   },
   "outputs": [],
   "source": [
    "#simpson 1/3 rule\n",
    "import math as m\n",
    "x=0.0\n",
    "def f(x):\n",
    "    result=x*m.exp(x)\n",
    "    return result\n",
    "f(x)\n",
    "a=float(input(\"Enter lower limit: \"))\n",
    "b=float(input(\"Enter upper limit: \"))\n",
    "n=input(\"Enter number of points to be generated (should be even): \")\n",
    "if n%2!=0:\n",
    "    n=input(\"Enter an even number: \")\n",
    "h=(b-a)/n\n",
    "#simpson calculatio\n",
    "integral=0.0\n",
    "i=0\n",
    "while i<n-1:\n",
    "    integral+=h*(f(a+i*h)+4*f(a+((1+i)*h))+f(a+((2+i)*h)))/3.0\n",
    "    i+=2\n",
    "print \"The integral is\", integral, \".\"\n"
   ]
  },
  {
   "cell_type": "code",
   "execution_count": null,
   "metadata": {
    "collapsed": false
   },
   "outputs": [],
   "source": [
    "#Sorting a list of names and marks\n",
    "aList=[]\n",
    "bList=[]\n",
    "i=0\n",
    "while 1:\n",
    "    str1=raw_input(\"Name: \")\n",
    "    if str1==\"\":\n",
    "        break\n",
    "    aList.append(str1)\n",
    "    bList.append(input(\"Marks: \"))\n",
    "    j=i\n",
    "    while j>0:\n",
    "        if bList[j-1]<bList[j]:\n",
    "            bList[j-1],bList[j]=bList[j],bList[j-1]\n",
    "            aList[j-1],aList[j]=aList[j],aList[j-1]\n",
    "            j=j-1\n",
    "        else:\n",
    "            break\n",
    "    i+=1\n",
    "print \"\\nThe sorted list in increasing order of marks is: \"\n",
    "for j in range(i):\n",
    "    print aList[j], bList[j], \"\\n\""
   ]
  },
  {
   "cell_type": "code",
   "execution_count": null,
   "metadata": {
    "collapsed": false
   },
   "outputs": [],
   "source": [
    "a=[[],\n",
    "   [],\n",
    "   []]\n",
    "book=[]\n",
    "book.append(1)\n",
    "book.append(2)\n",
    "#book[1]=\"Phy\"\n",
    "a[0]=book\n",
    "if a[0][0]>a[0][1]:\n",
    "    print 1\n",
    "elif a[0][0]==a[0][1]:\n",
    "    print 2\n",
    "else:\n",
    "    print 3\n"
   ]
  },
  {
   "cell_type": "code",
   "execution_count": 1,
   "metadata": {
    "collapsed": false
   },
   "outputs": [
    {
     "name": "stdout",
     "output_type": "stream",
     "text": [
      "Name: Sunip\n",
      "Score: 8.4\n",
      "Name: Aritra\n",
      "Score: 9\n",
      "Name: Suman\n",
      "Score: 8.4\n",
      "Name: Agniva\n",
      "Score: 8.7\n",
      "Name: \n",
      "The sorted list is: \n",
      "\n",
      "Aritra 9 \n",
      "\n",
      "Agniva 8.7 \n",
      "\n",
      "Suman 8.4 \n",
      "\n",
      "Sunip 8.4 \n",
      "\n"
     ]
    }
   ],
   "source": [
    "#sorting of name and marks with alphabetical arrangement if two entries with same marks\n",
    "a=[[],[]]\n",
    "i=0\n",
    "while 1:\n",
    "    str1=raw_input(\"Name: \")\n",
    "    if str1==\"\":\n",
    "        break\n",
    "    #a[0][i]=str1\n",
    "    a[0].append(str1)\n",
    "    a[1].append(input(\"Score: \"))\n",
    "    for j in range(i,0,-1):\n",
    "        if a[1][j]>a[1][j-1]:\n",
    "            for k in range(2):\n",
    "                a[k][j],a[k][j-1]=a[k][j-1],a[k][j]\n",
    "        elif a[1][j]==a[1][j-1]:\n",
    "            if a[0][j]<a[0][j-1]:\n",
    "                for k in range(2):\n",
    "                    a[k][j],a[k][j-1]=a[k][j-1],a[k][j]\n",
    "        else:\n",
    "            break\n",
    "    i+=1\n",
    "print \"The sorted list is: \\n\"\n",
    "for j in range(i):\n",
    "    for k in range(2):\n",
    "        print a[k][j],\n",
    "    print \"\\n\""
   ]
  },
  {
   "cell_type": "code",
   "execution_count": 3,
   "metadata": {
    "collapsed": false,
    "scrolled": true
   },
   "outputs": [
    {
     "name": "stdout",
     "output_type": "stream",
     "text": [
      "10.0 10.0 10.0 \n",
      "\n",
      "20.0 20.0 20.0 \n",
      "\n",
      "30.0 30.0 30.0 \n",
      "\n"
     ]
    }
   ],
   "source": [
    "import math as m\n",
    "a=float()\n",
    "b=float()\n",
    "c=1.0\n",
    "def f(a, b, c):\n",
    "    z=((a-b)/c)**2.0\n",
    "    result=m.exp(z)\n",
    "    return result\n",
    "f(a,b,c)\n",
    "a=[]\n",
    "with open('data') as f:\n",
    "    for line in f:\n",
    "        # inner_list = [elt.strip() for elt in line.split(',')]\n",
    "        # in alternative, if you need to use the file content as numbers\n",
    "        inner_list = [float(elt.strip()) for elt in line.split(',')]\n",
    "        a.append(inner_list)\n",
    "for i in xrange(3):\n",
    "    for j in xrange(3):\n",
    "        print a[i][j],\n",
    "    print \"\\n\"\n"
   ]
  },
  {
   "cell_type": "code",
   "execution_count": 5,
   "metadata": {
    "collapsed": false
   },
   "outputs": [
    {
     "ename": "SyntaxError",
     "evalue": "invalid syntax (<ipython-input-5-82dbf6d3ae84>, line 4)",
     "output_type": "error",
     "traceback": [
      "\u001b[0;36m  File \u001b[0;32m\"<ipython-input-5-82dbf6d3ae84>\"\u001b[0;36m, line \u001b[0;32m4\u001b[0m\n\u001b[0;31m    def f(x)\u001b[0m\n\u001b[0m            ^\u001b[0m\n\u001b[0;31mSyntaxError\u001b[0m\u001b[0;31m:\u001b[0m invalid syntax\n"
     ]
    }
   ],
   "source": [
    "import math as m\n",
    "\n",
    "x=1.0\n",
    "\n",
    "y=1\n",
    "print f(2)\n",
    "\n",
    "def f(x):\n",
    "    result=float(1+(x-y)/(y**3-4*x))\n",
    "    return result\n"
   ]
  },
  {
   "cell_type": "code",
   "execution_count": null,
   "metadata": {
    "collapsed": true
   },
   "outputs": [],
   "source": []
  }
 ],
 "metadata": {
  "kernelspec": {
   "display_name": "Python 2",
   "language": "python",
   "name": "python2"
  },
  "language_info": {
   "codemirror_mode": {
    "name": "ipython",
    "version": 2
   },
   "file_extension": ".py",
   "mimetype": "text/x-python",
   "name": "python",
   "nbconvert_exporter": "python",
   "pygments_lexer": "ipython2",
   "version": "2.7.9"
  }
 },
 "nbformat": 4,
 "nbformat_minor": 0
}
