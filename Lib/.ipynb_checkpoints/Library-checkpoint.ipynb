{
 "cells": [
  {
   "cell_type": "code",
   "execution_count": 13,
   "metadata": {
    "collapsed": false
   },
   "outputs": [
    {
     "name": "stdout",
     "output_type": "stream",
     "text": [
      "[[['Agniva', 100], 'Sunip']]\n",
      "[[['Agniva', 'Roychowdhury'], 'Sunip']]\n",
      "[['Sunip', ['Agniva', 'Roychowdhury']]]\n"
     ]
    }
   ],
   "source": [
    "a=[]\n",
    "a.append([])\n",
    "a[0].append([])\n",
    "a[0][0].append(\"Agniva\")\n",
    "a[0][0].append(100)\n",
    "a[0].append(\"Sunip\")\n",
    "print a\n",
    "a[0][0][1]=\"Roychowdhury\"\n",
    "print a\n",
    "a[0][0],a[0][1]=a[0][1],a[0][0]\n",
    "print a\n",
    "\n"
   ]
  },
  {
   "cell_type": "code",
   "execution_count": 16,
   "metadata": {
    "collapsed": false
   },
   "outputs": [
    {
     "name": "stdout",
     "output_type": "stream",
     "text": [
      "15 10 20\n"
     ]
    }
   ],
   "source": [
    "a=10\n",
    "b=15\n",
    "c=20\n",
    "a,b=b,a\n",
    "print a, b, c"
   ]
  },
  {
   "cell_type": "code",
   "execution_count": null,
   "metadata": {
    "collapsed": true
   },
   "outputs": [],
   "source": []
  }
 ],
 "metadata": {
  "kernelspec": {
   "display_name": "Python 2",
   "language": "python",
   "name": "python2"
  },
  "language_info": {
   "codemirror_mode": {
    "name": "ipython",
    "version": 2
   },
   "file_extension": ".py",
   "mimetype": "text/x-python",
   "name": "python",
   "nbconvert_exporter": "python",
   "pygments_lexer": "ipython2",
   "version": "2.7.9"
  }
 },
 "nbformat": 4,
 "nbformat_minor": 0
}
